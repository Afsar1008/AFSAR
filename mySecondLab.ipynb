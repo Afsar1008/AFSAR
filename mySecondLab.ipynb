{
  "nbformat": 4,
  "nbformat_minor": 0,
  "metadata": {
    "colab": {
      "name": "mySecondLab",
      "provenance": [],
      "authorship_tag": "ABX9TyMoMKgeFCe+etBVCol7KswV",
      "include_colab_link": true
    },
    "kernelspec": {
      "name": "python3",
      "display_name": "Python 3"
    },
    "language_info": {
      "name": "python"
    }
  },
  "cells": [
    {
      "cell_type": "markdown",
      "metadata": {
        "id": "view-in-github",
        "colab_type": "text"
      },
      "source": [
        "<a href=\"https://colab.research.google.com/github/Afsar1008/AFSAR/blob/main/mySecondLab.ipynb\" target=\"_parent\"><img src=\"https://colab.research.google.com/assets/colab-badge.svg\" alt=\"Open In Colab\"/></a>"
      ]
    },
    {
      "cell_type": "code",
      "execution_count": null,
      "metadata": {
        "id": "CdC_eVoxI2uX",
        "colab": {
          "base_uri": "https://localhost:8080/",
          "height": 35
        },
        "outputId": "d77745fa-9ebb-459b-dfb6-b69b97fe1202"
      },
      "outputs": [
        {
          "output_type": "execute_result",
          "data": {
            "text/plain": [
              "'10101010101010101010'"
            ],
            "application/vnd.google.colaboratory.intrinsic+json": {
              "type": "string"
            }
          },
          "metadata": {},
          "execution_count": 1
        }
      ],
      "source": [
        "x=\"10\"\n",
        "y=10\n",
        "x*y"
      ]
    },
    {
      "cell_type": "code",
      "source": [
        "x=10\n",
        "y=\"10\"\n",
        "x*y"
      ],
      "metadata": {
        "colab": {
          "base_uri": "https://localhost:8080/",
          "height": 35
        },
        "id": "CcES7V5_KEv8",
        "outputId": "5db9cf49-bd19-41e3-9720-e7ad34f38721"
      },
      "execution_count": null,
      "outputs": [
        {
          "output_type": "execute_result",
          "data": {
            "text/plain": [
              "'10101010101010101010'"
            ],
            "application/vnd.google.colaboratory.intrinsic+json": {
              "type": "string"
            }
          },
          "metadata": {},
          "execution_count": 2
        }
      ]
    },
    {
      "cell_type": "code",
      "source": [
        "x=10\n",
        "y=20\n",
        "x/y"
      ],
      "metadata": {
        "colab": {
          "base_uri": "https://localhost:8080/"
        },
        "id": "_F_Mq3D4KQ5F",
        "outputId": "0af10748-23bf-4fca-92b2-78bdc5fdcdeb"
      },
      "execution_count": null,
      "outputs": [
        {
          "output_type": "execute_result",
          "data": {
            "text/plain": [
              "0.5"
            ]
          },
          "metadata": {},
          "execution_count": 3
        }
      ]
    },
    {
      "cell_type": "code",
      "source": [
        "x=10\n",
        "y=10\n",
        "x//y"
      ],
      "metadata": {
        "id": "GLROaD1VJHEe",
        "colab": {
          "base_uri": "https://localhost:8080/"
        },
        "outputId": "33305d0d-b21a-4e2c-a3c2-383b18a6de44"
      },
      "execution_count": null,
      "outputs": [
        {
          "output_type": "execute_result",
          "data": {
            "text/plain": [
              "1"
            ]
          },
          "metadata": {},
          "execution_count": 4
        }
      ]
    },
    {
      "cell_type": "code",
      "source": [
        "string1 = input(\"Enter the first string: \")\n",
        "print(string1, end = \"\\n\")\n",
        "     \n",
        "string2 = input(\"Enter the second string: \")\n",
        "print(string2, end =\"\\n\")\n",
        "    \n",
        "print(\"Are both strings same: \", end = \" \") \n",
        "  \n",
        "if (string1 == string2) : \n",
        "    print(\"Yes\")\n",
        "          \n",
        "else : \n",
        "    print(\"No\")"
      ],
      "metadata": {
        "colab": {
          "base_uri": "https://localhost:8080/"
        },
        "id": "FVu7pbMaKcWZ",
        "outputId": "b3beff23-1ce4-45cf-9d9c-537f7af59591"
      },
      "execution_count": null,
      "outputs": [
        {
          "output_type": "stream",
          "name": "stdout",
          "text": [
            "Enter the first string: 1\n",
            "1\n",
            "Enter the second string: 20\n",
            "20\n",
            "Are both strings same:  No\n"
          ]
        }
      ]
    },
    {
      "cell_type": "code",
      "source": [
        "x=10\n",
        "y=10\n",
        "x%y"
      ],
      "metadata": {
        "colab": {
          "base_uri": "https://localhost:8080/"
        },
        "id": "OKaKWSGHKcZC",
        "outputId": "23f5b3bd-0acc-4232-abe5-73ce9c2ddb42"
      },
      "execution_count": null,
      "outputs": [
        {
          "output_type": "execute_result",
          "data": {
            "text/plain": [
              "0"
            ]
          },
          "metadata": {},
          "execution_count": 6
        }
      ]
    },
    {
      "cell_type": "code",
      "source": [
        "x**y"
      ],
      "metadata": {
        "id": "we6GODCiJHGV",
        "colab": {
          "base_uri": "https://localhost:8080/"
        },
        "outputId": "5766d674-414b-43aa-a1f4-982d7c7c2283"
      },
      "execution_count": null,
      "outputs": [
        {
          "output_type": "execute_result",
          "data": {
            "text/plain": [
              "10000000000"
            ]
          },
          "metadata": {},
          "execution_count": 7
        }
      ]
    },
    {
      "cell_type": "code",
      "source": [
        "x=2\n",
        "x=x+2"
      ],
      "metadata": {
        "id": "yef57h0fMqAY"
      },
      "execution_count": null,
      "outputs": []
    },
    {
      "cell_type": "code",
      "source": [
        "x"
      ],
      "metadata": {
        "colab": {
          "base_uri": "https://localhost:8080/"
        },
        "id": "1ZrH7mPwMzrG",
        "outputId": "8b759486-ad1d-41b8-c54e-20dbbc106c6d"
      },
      "execution_count": null,
      "outputs": [
        {
          "output_type": "execute_result",
          "data": {
            "text/plain": [
              "4"
            ]
          },
          "metadata": {},
          "execution_count": 9
        }
      ]
    },
    {
      "cell_type": "code",
      "source": [
        "x"
      ],
      "metadata": {
        "colab": {
          "base_uri": "https://localhost:8080/"
        },
        "id": "3DMIMjm2M2bm",
        "outputId": "d98dce2a-2a2d-4c25-82be-3e72b9debe62"
      },
      "execution_count": null,
      "outputs": [
        {
          "output_type": "execute_result",
          "data": {
            "text/plain": [
              "4"
            ]
          },
          "metadata": {},
          "execution_count": 10
        }
      ]
    },
    {
      "cell_type": "code",
      "source": [
        "x*3"
      ],
      "metadata": {
        "colab": {
          "base_uri": "https://localhost:8080/"
        },
        "id": "KZyfA0CvM9cI",
        "outputId": "e4d73d70-d534-46e6-d3e8-05fc9503bd51"
      },
      "execution_count": null,
      "outputs": [
        {
          "output_type": "execute_result",
          "data": {
            "text/plain": [
              "12"
            ]
          },
          "metadata": {},
          "execution_count": 11
        }
      ]
    },
    {
      "cell_type": "code",
      "source": [
        "x=20\n",
        "y=10\n",
        "print('x+y=', x+y)\n",
        "print('x-y=', x-y)\n",
        "print('x*y=', x*y)\n",
        "print('x/y=', x/y)\n",
        "print('x//y=', x//y)\n",
        "print('x**y=', x**y)"
      ],
      "metadata": {
        "colab": {
          "base_uri": "https://localhost:8080/"
        },
        "id": "lcH9634YM9eC",
        "outputId": "435136dd-0fa2-451f-9576-302d54cd84b7"
      },
      "execution_count": null,
      "outputs": [
        {
          "output_type": "stream",
          "name": "stdout",
          "text": [
            "x+y= 30\n",
            "x-y= 10\n",
            "x*y= 200\n",
            "x/y= 2.0\n",
            "x//y= 2\n",
            "x**y= 10240000000000\n"
          ]
        }
      ]
    },
    {
      "cell_type": "code",
      "source": [
        "×=20+20.5\n",
        "print(\"+ operator is Evaluated=\",x)"
      ],
      "metadata": {
        "colab": {
          "base_uri": "https://localhost:8080/",
          "height": 130
        },
        "id": "2ULD58f0TjCa",
        "outputId": "8823bd57-82c0-4ee9-a088-c7358d7bc5c5"
      },
      "execution_count": null,
      "outputs": [
        {
          "output_type": "error",
          "ename": "SyntaxError",
          "evalue": "ignored",
          "traceback": [
            "\u001b[0;36m  File \u001b[0;32m\"<ipython-input-18-69f17e5372b1>\"\u001b[0;36m, line \u001b[0;32m1\u001b[0m\n\u001b[0;31m    ×=20+20.5\u001b[0m\n\u001b[0m    ^\u001b[0m\n\u001b[0;31mSyntaxError\u001b[0m\u001b[0;31m:\u001b[0m invalid character in identifier\n"
          ]
        }
      ]
    },
    {
      "cell_type": "code",
      "source": [
        "x=200+20.0*5\n",
        "print(\"* operator is Evaluated\",×)"
      ],
      "metadata": {
        "colab": {
          "base_uri": "https://localhost:8080/",
          "height": 130
        },
        "id": "oIIqF53-T3zh",
        "outputId": "d107d915-3ad0-4105-821a-08038e5fe521"
      },
      "execution_count": null,
      "outputs": [
        {
          "output_type": "error",
          "ename": "SyntaxError",
          "evalue": "ignored",
          "traceback": [
            "\u001b[0;36m  File \u001b[0;32m\"<ipython-input-19-1eaa8c7fd14b>\"\u001b[0;36m, line \u001b[0;32m2\u001b[0m\n\u001b[0;31m    print(\"* operator is Evaluated\",×)\u001b[0m\n\u001b[0m                                    ^\u001b[0m\n\u001b[0;31mSyntaxError\u001b[0m\u001b[0;31m:\u001b[0m invalid character in identifier\n"
          ]
        }
      ]
    },
    {
      "cell_type": "code",
      "source": [
        "x=20+20/2*5\n",
        "print(\"/ operator is Evaluated\",x)"
      ],
      "metadata": {
        "colab": {
          "base_uri": "https://localhost:8080/"
        },
        "id": "ghaIZ6-ZT31D",
        "outputId": "cef87a71-55e5-44ff-d378-bf3800f186b0"
      },
      "execution_count": null,
      "outputs": [
        {
          "output_type": "stream",
          "name": "stdout",
          "text": [
            "/ operator is Evaluated 70.0\n"
          ]
        }
      ]
    },
    {
      "cell_type": "code",
      "source": [
        "# Program for logical errors\n",
        "\n",
        "num1=int (input(\"Enter First Number\"))\n",
        "\n",
        "num2=int (input(\"Enter Second Number\"))\n",
        "\n",
        "SumValue = (num1 - num2)\n",
        "\n",
        "# Printing the Value\n",
        "\n",
        "print(\" The Sum of the given numbers is \", SumValue)"
      ],
      "metadata": {
        "colab": {
          "base_uri": "https://localhost:8080/"
        },
        "id": "Bq4bnAp6UzTQ",
        "outputId": "207ab190-674b-4bf8-9f28-820cc5c785c0"
      },
      "execution_count": 23,
      "outputs": [
        {
          "output_type": "stream",
          "name": "stdout",
          "text": [
            "Enter First Number20\n",
            "Enter Second Number40\n",
            " The Sum of the given numbers is  -20\n"
          ]
        }
      ]
    },
    {
      "cell_type": "code",
      "source": [
        "X= 15\n",
        "y = 5\n",
        "# Output: = 20\n",
        "print('x +y'，=(x+y)\n",
        "# Output:x y = 10\n",
        "print('x- y = ,x-y)\n",
        "# Output: x y = 75\n",
        "print('x * y 'x*y）\n",
        "# Output:x / y = 3.0\n",
        "print('x/y=',x/y)\n",
        "# Output:x 7 y = 3\n",
        "print('x // y ,x//y)\n",
        "# Output: X V = 759375\n",
        "print X y = jX y)"
      ],
      "metadata": {
        "colab": {
          "base_uri": "https://localhost:8080/",
          "height": 131
        },
        "id": "0mh60rJFV825",
        "outputId": "5d984930-487a-4ebe-ae6c-0a6c87ad5c78"
      },
      "execution_count": 24,
      "outputs": [
        {
          "output_type": "error",
          "ename": "SyntaxError",
          "evalue": "ignored",
          "traceback": [
            "\u001b[0;36m  File \u001b[0;32m\"<ipython-input-24-27b6f18db996>\"\u001b[0;36m, line \u001b[0;32m4\u001b[0m\n\u001b[0;31m    print('x +y'，=(x+y)\u001b[0m\n\u001b[0m                ^\u001b[0m\n\u001b[0;31mSyntaxError\u001b[0m\u001b[0;31m:\u001b[0m invalid character in identifier\n"
          ]
        }
      ]
    }
  ]
}